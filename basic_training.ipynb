{
 "cells": [
  {
   "cell_type": "code",
   "execution_count": 23,
   "metadata": {},
   "outputs": [],
   "source": [
    "import torch.nn as nn\n",
    "import torch.utils.data as data\n",
    "import torch.optim as optim\n",
    "\n",
    "from torchsummary import summary\n",
    "\n",
    "from utils.data_utils import *\n",
    "from model.encoder import Encoder\n",
    "from model.generator import Generator\n",
    "\n",
    "import matplotlib.pyplot as plt"
   ]
  },
  {
   "cell_type": "markdown",
   "metadata": {},
   "source": [
    "# Args"
   ]
  },
  {
   "cell_type": "code",
   "execution_count": 6,
   "metadata": {},
   "outputs": [],
   "source": [
    "choose_cuda = True\n",
    "data_dir = '/home/ewok261/Documents/psychic-gan/data/in_2_out_1_ol_0'\n",
    "frm_in = 2\n",
    "frm_out = 1\n",
    "mini_batch = 32\n",
    "n_epochs = 100"
   ]
  },
  {
   "cell_type": "code",
   "execution_count": 7,
   "metadata": {},
   "outputs": [
    {
     "name": "stdout",
     "output_type": "stream",
     "text": [
      "cpu\n"
     ]
    }
   ],
   "source": [
    "if choose_cuda and torch.cuda.is_available():\n",
    "    device = torch.device('cuda')\n",
    "else:\n",
    "    device = torch.device('cpu')\n",
    "\n",
    "print(device)"
   ]
  },
  {
   "cell_type": "markdown",
   "metadata": {},
   "source": [
    "# Load data"
   ]
  },
  {
   "cell_type": "code",
   "execution_count": 8,
   "metadata": {},
   "outputs": [
    {
     "name": "stdout",
     "output_type": "stream",
     "text": [
      "Train size: 1\n",
      "Val size: 3\n"
     ]
    }
   ],
   "source": [
    "all_data = KITTIData(frm_in, frm_out, 0, data_dir)\n",
    "[train_data,val_data] = data.random_split(all_data, [1100, 243])\n",
    "[train_data, _] = data.random_split(train_data, [1, 1099]) # take a small subset of training data (for overfitting)\n",
    "[val_data, _] = data.random_split(val_data, [3, 240])\n",
    "train_loader = data.DataLoader(train_data, batch_size = 1, shuffle=True, num_workers=1)\n",
    "val_loader = data.DataLoader(val_data, batch_size = 1, shuffle = False, num_workers = 1)\n",
    "print('Train size: {0}'.format(len(train_data)))\n",
    "print('Val size: {0}'.format(len(val_data)))"
   ]
  },
  {
   "cell_type": "markdown",
   "metadata": {},
   "source": [
    "# Define the network and loss"
   ]
  },
  {
   "cell_type": "code",
   "execution_count": 9,
   "metadata": {},
   "outputs": [],
   "source": [
    "loss_fun = nn.MSELoss()\n",
    "\n",
    "encoder = Encoder(frame_dim=64, init_temp=2, hidden_dim=128, out_filters=256,\n",
    "                  attention_at=8, norm=nn.utils.weight_norm, residual=True)\n",
    "encoder = encoder.to(device)\n",
    "encoder_optim = optim.Adam(encoder.parameters(), betas=(0.9, 0.999))\n",
    "\n",
    "generator = Generator(frame_dim=64, temporal_target=1, hidden_dim=128,\n",
    "                      init_filters=256, attention_at=8, norm=nn.utils.weight_norm)\n",
    "generator = generator.to(device)\n",
    "generator_optim = optim.Adam(generator.parameters(), betas=(0.5, 0.999))"
   ]
  },
  {
   "cell_type": "markdown",
   "metadata": {},
   "source": [
    "# Training loop"
   ]
  },
  {
   "cell_type": "code",
   "execution_count": 10,
   "metadata": {
    "scrolled": true
   },
   "outputs": [
    {
     "name": "stdout",
     "output_type": "stream",
     "text": [
      "[Epoch 0 - Step 0] Loss: 0.2168763428926468\n",
      "[Epoch 0] Val-Loss: 0.22406098743279776\n",
      "[Epoch 1 - Step 0] Loss: 0.1896727979183197\n",
      "[Epoch 1] Val-Loss: 0.12277725090583165\n",
      "[Epoch 2 - Step 0] Loss: 0.08237167447805405\n",
      "[Epoch 2] Val-Loss: 2.7058293024698896\n",
      "[Epoch 3 - Step 0] Loss: 2.231869697570801\n",
      "[Epoch 3] Val-Loss: 0.18798781434694928\n",
      "[Epoch 4 - Step 0] Loss: 0.10916315764188766\n",
      "[Epoch 4] Val-Loss: 0.21478773653507233\n",
      "[Epoch 5 - Step 0] Loss: 0.16791053116321564\n",
      "[Epoch 5] Val-Loss: 0.2168028155962626\n",
      "[Epoch 6 - Step 0] Loss: 0.17647665739059448\n",
      "[Epoch 6] Val-Loss: 0.21394688884417215\n",
      "[Epoch 7 - Step 0] Loss: 0.17675752937793732\n",
      "[Epoch 7] Val-Loss: 0.20864220956961313\n",
      "[Epoch 8 - Step 0] Loss: 0.1730315387248993\n",
      "[Epoch 8] Val-Loss: 0.1984986166159312\n",
      "[Epoch 9 - Step 0] Loss: 0.16359111666679382\n",
      "[Epoch 9] Val-Loss: 0.17983755469322202\n",
      "[Epoch 10 - Step 0] Loss: 0.14477765560150146\n",
      "[Epoch 10] Val-Loss: 0.1505028878649076\n",
      "[Epoch 11 - Step 0] Loss: 0.11256816238164902\n",
      "[Epoch 11] Val-Loss: 0.12385876476764679\n",
      "[Epoch 12 - Step 0] Loss: 0.0714271143078804\n",
      "[Epoch 12] Val-Loss: 0.16514619936545688\n",
      "[Epoch 13 - Step 0] Loss: 0.05689704790711403\n",
      "[Epoch 13] Val-Loss: 0.17283858607212702\n",
      "[Epoch 14 - Step 0] Loss: 0.0411481074988842\n",
      "[Epoch 14] Val-Loss: 0.17555036395788193\n",
      "[Epoch 15 - Step 0] Loss: 0.039401572197675705\n",
      "[Epoch 15] Val-Loss: 0.178639513750871\n",
      "[Epoch 16 - Step 0] Loss: 0.037411879748106\n",
      "[Epoch 16] Val-Loss: 0.1745862364768982\n",
      "[Epoch 17 - Step 0] Loss: 0.034108180552721024\n",
      "[Epoch 17] Val-Loss: 0.16853060324986774\n",
      "[Epoch 18 - Step 0] Loss: 0.03239981457591057\n",
      "[Epoch 18] Val-Loss: 0.16919924318790436\n",
      "[Epoch 19 - Step 0] Loss: 0.03078020177781582\n",
      "[Epoch 19] Val-Loss: 0.16071534156799316\n",
      "[Epoch 20 - Step 0] Loss: 0.029144490137696266\n",
      "[Epoch 20] Val-Loss: 0.16116142769654593\n",
      "[Epoch 21 - Step 0] Loss: 0.027845779433846474\n",
      "[Epoch 21] Val-Loss: 0.15524785468975705\n",
      "[Epoch 22 - Step 0] Loss: 0.026861898601055145\n",
      "[Epoch 22] Val-Loss: 0.16062531868616742\n",
      "[Epoch 23 - Step 0] Loss: 0.02629115805029869\n",
      "[Epoch 23] Val-Loss: 0.15168861051400503\n",
      "[Epoch 24 - Step 0] Loss: 0.028778092935681343\n",
      "[Epoch 24] Val-Loss: 0.21830507616202033\n",
      "[Epoch 25 - Step 0] Loss: 0.049743931740522385\n",
      "[Epoch 25] Val-Loss: 0.1578016405304273\n",
      "[Epoch 26 - Step 0] Loss: 0.07889436185359955\n",
      "[Epoch 26] Val-Loss: 0.14456340670585632\n",
      "[Epoch 27 - Step 0] Loss: 0.048712875694036484\n",
      "[Epoch 27] Val-Loss: 0.1575705111026764\n",
      "[Epoch 28 - Step 0] Loss: 0.031141476705670357\n",
      "[Epoch 28] Val-Loss: 0.17789051930109662\n",
      "[Epoch 29 - Step 0] Loss: 0.03586423769593239\n",
      "[Epoch 29] Val-Loss: 0.155743641157945\n",
      "[Epoch 30 - Step 0] Loss: 0.029589591547846794\n",
      "[Epoch 30] Val-Loss: 0.15219536920388538\n",
      "[Epoch 31 - Step 0] Loss: 0.030231434851884842\n",
      "[Epoch 31] Val-Loss: 0.15763824433088303\n",
      "[Epoch 32 - Step 0] Loss: 0.0281814094632864\n",
      "[Epoch 32] Val-Loss: 0.1639668270945549\n",
      "[Epoch 33 - Step 0] Loss: 0.027785176411271095\n",
      "[Epoch 33] Val-Loss: 0.16097067793210346\n",
      "[Epoch 34 - Step 0] Loss: 0.026879221200942993\n",
      "[Epoch 34] Val-Loss: 0.15697012096643448\n",
      "[Epoch 35 - Step 0] Loss: 0.026233425363898277\n",
      "[Epoch 35] Val-Loss: 0.15715256333351135\n",
      "[Epoch 36 - Step 0] Loss: 0.02554037980735302\n",
      "[Epoch 36] Val-Loss: 0.15905434389909107\n",
      "[Epoch 37 - Step 0] Loss: 0.024939635768532753\n",
      "[Epoch 37] Val-Loss: 0.158931794265906\n",
      "[Epoch 38 - Step 0] Loss: 0.024585777893662453\n",
      "[Epoch 38] Val-Loss: 0.15774885068337122\n",
      "[Epoch 39 - Step 0] Loss: 0.024168403819203377\n",
      "[Epoch 39] Val-Loss: 0.15882715582847595\n",
      "[Epoch 40 - Step 0] Loss: 0.02351885288953781\n",
      "[Epoch 40] Val-Loss: 0.15733838578065237\n",
      "[Epoch 41 - Step 0] Loss: 0.023933162912726402\n",
      "[Epoch 41] Val-Loss: 0.1598115786910057\n",
      "[Epoch 42 - Step 0] Loss: 0.02253752201795578\n",
      "[Epoch 42] Val-Loss: 0.1574371779958407\n",
      "[Epoch 43 - Step 0] Loss: 0.021963389590382576\n",
      "[Epoch 43] Val-Loss: 0.15760617951552072\n",
      "[Epoch 44 - Step 0] Loss: 0.021372882649302483\n",
      "[Epoch 44] Val-Loss: 0.15504458298285803\n",
      "[Epoch 45 - Step 0] Loss: 0.02124299481511116\n",
      "[Epoch 45] Val-Loss: 0.1595079650481542\n",
      "[Epoch 46 - Step 0] Loss: 0.020358769223093987\n",
      "[Epoch 46] Val-Loss: 0.15606941034396488\n",
      "[Epoch 47 - Step 0] Loss: 0.01966848596930504\n",
      "[Epoch 47] Val-Loss: 0.15527736643950146\n",
      "[Epoch 48 - Step 0] Loss: 0.01936754398047924\n",
      "[Epoch 48] Val-Loss: 0.15705925722916922\n",
      "[Epoch 49 - Step 0] Loss: 0.0192401222884655\n",
      "[Epoch 49] Val-Loss: 0.15866562972466153\n",
      "[Epoch 50 - Step 0] Loss: 0.020485350862145424\n",
      "[Epoch 50] Val-Loss: 0.15957661966482797\n",
      "[Epoch 51 - Step 0] Loss: 0.018588529899716377\n",
      "[Epoch 51] Val-Loss: 0.15323400249083838\n",
      "[Epoch 52 - Step 0] Loss: 0.018389549106359482\n",
      "[Epoch 52] Val-Loss: 0.15515236804882684\n",
      "[Epoch 53 - Step 0] Loss: 0.0183243490755558\n",
      "[Epoch 53] Val-Loss: 0.15959854920705158\n",
      "[Epoch 54 - Step 0] Loss: 0.017816152423620224\n",
      "[Epoch 54] Val-Loss: 0.15255502114693326\n",
      "[Epoch 55 - Step 0] Loss: 0.01753600873053074\n",
      "[Epoch 55] Val-Loss: 0.15582652141650516\n",
      "[Epoch 56 - Step 0] Loss: 0.017148785293102264\n",
      "[Epoch 56] Val-Loss: 0.1561247557401657\n",
      "[Epoch 57 - Step 0] Loss: 0.017297834157943726\n",
      "[Epoch 57] Val-Loss: 0.15788494050502777\n",
      "[Epoch 58 - Step 0] Loss: 0.01704084873199463\n",
      "[Epoch 58] Val-Loss: 0.15317622323830923\n",
      "[Epoch 59 - Step 0] Loss: 0.017700055614113808\n",
      "[Epoch 59] Val-Loss: 0.16004112114508948\n",
      "[Epoch 60 - Step 0] Loss: 0.017034411430358887\n",
      "[Epoch 60] Val-Loss: 0.1526650165518125\n",
      "[Epoch 61 - Step 0] Loss: 0.016584904864430428\n",
      "[Epoch 61] Val-Loss: 0.1583024387558301\n",
      "[Epoch 62 - Step 0] Loss: 0.01639757677912712\n",
      "[Epoch 62] Val-Loss: 0.15421795596679053\n",
      "[Epoch 63 - Step 0] Loss: 0.017376746982336044\n",
      "[Epoch 63] Val-Loss: 0.1609703004360199\n",
      "[Epoch 64 - Step 0] Loss: 0.016513509675860405\n",
      "[Epoch 64] Val-Loss: 0.1516028642654419\n",
      "[Epoch 65 - Step 0] Loss: 0.015943413600325584\n",
      "[Epoch 65] Val-Loss: 0.15740048388640088\n",
      "[Epoch 66 - Step 0] Loss: 0.015574685297906399\n",
      "[Epoch 66] Val-Loss: 0.15563401828209558\n",
      "[Epoch 67 - Step 0] Loss: 0.01575673371553421\n",
      "[Epoch 67] Val-Loss: 0.16016700863838196\n",
      "[Epoch 68 - Step 0] Loss: 0.015869056805968285\n",
      "[Epoch 68] Val-Loss: 0.1514083941777547\n",
      "[Epoch 69 - Step 0] Loss: 0.017600147053599358\n",
      "[Epoch 69] Val-Loss: 0.16447005420923233\n",
      "[Epoch 70 - Step 0] Loss: 0.016742024570703506\n",
      "[Epoch 70] Val-Loss: 0.15135324001312256\n",
      "[Epoch 71 - Step 0] Loss: 0.016276482492685318\n",
      "[Epoch 71] Val-Loss: 0.15932707488536835\n",
      "[Epoch 72 - Step 0] Loss: 0.015318939462304115\n",
      "[Epoch 72] Val-Loss: 0.15536867082118988\n",
      "[Epoch 73 - Step 0] Loss: 0.015184634365141392\n",
      "[Epoch 73] Val-Loss: 0.15868559728066128\n",
      "[Epoch 74 - Step 0] Loss: 0.014721991494297981\n",
      "[Epoch 74] Val-Loss: 0.15339129169782004\n",
      "[Epoch 75 - Step 0] Loss: 0.014614108018577099\n",
      "[Epoch 75] Val-Loss: 0.16013257453838986\n",
      "[Epoch 76 - Step 0] Loss: 0.014543512836098671\n",
      "[Epoch 76] Val-Loss: 0.15360960612694424\n",
      "[Epoch 77 - Step 0] Loss: 0.014976633712649345\n",
      "[Epoch 77] Val-Loss: 0.16268336027860641\n",
      "[Epoch 78 - Step 0] Loss: 0.015098197385668755\n",
      "[Epoch 78] Val-Loss: 0.1516583313544591\n",
      "[Epoch 79 - Step 0] Loss: 0.016715895384550095\n",
      "[Epoch 79] Val-Loss: 0.16722725828488666\n",
      "[Epoch 80 - Step 0] Loss: 0.015765562653541565\n",
      "[Epoch 80] Val-Loss: 0.15011777728796005\n",
      "[Epoch 81 - Step 0] Loss: 0.016436710953712463\n",
      "[Epoch 81] Val-Loss: 0.163439579308033\n",
      "[Epoch 82 - Step 0] Loss: 0.014698343351483345\n",
      "[Epoch 82] Val-Loss: 0.15359328190485635\n",
      "[Epoch 83 - Step 0] Loss: 0.01430895458906889\n",
      "[Epoch 83] Val-Loss: 0.16093700875838599\n",
      "[Epoch 84 - Step 0] Loss: 0.013493365608155727\n",
      "[Epoch 84] Val-Loss: 0.15537232408920923\n",
      "[Epoch 85 - Step 0] Loss: 0.013187193311750889\n",
      "[Epoch 85] Val-Loss: 0.15922323614358902\n",
      "[Epoch 86 - Step 0] Loss: 0.01295083574950695\n",
      "[Epoch 86] Val-Loss: 0.15672777593135834\n",
      "[Epoch 87 - Step 0] Loss: 0.012814567424356937\n",
      "[Epoch 87] Val-Loss: 0.1599517340461413\n",
      "[Epoch 88 - Step 0] Loss: 0.012732140719890594\n",
      "[Epoch 88] Val-Loss: 0.15556777765353522\n",
      "[Epoch 89 - Step 0] Loss: 0.012866640463471413\n",
      "[Epoch 89] Val-Loss: 0.16372323284546536\n",
      "[Epoch 90 - Step 0] Loss: 0.013247007504105568\n",
      "[Epoch 90] Val-Loss: 0.15235288192828494\n",
      "[Epoch 91 - Step 0] Loss: 0.015167757868766785\n",
      "[Epoch 91] Val-Loss: 0.17235853523015976\n",
      "[Epoch 92 - Step 0] Loss: 0.016284924000501633\n",
      "[Epoch 92] Val-Loss: 0.15033985426028568\n",
      "[Epoch 93 - Step 0] Loss: 0.022023586556315422\n",
      "[Epoch 93] Val-Loss: 0.1696026623249054\n",
      "[Epoch 94 - Step 0] Loss: 0.014211982488632202\n"
     ]
    },
    {
     "name": "stdout",
     "output_type": "stream",
     "text": [
      "[Epoch 94] Val-Loss: 0.15472887953122455\n",
      "[Epoch 95 - Step 0] Loss: 0.012518885545432568\n",
      "[Epoch 95] Val-Loss: 0.15365284432967502\n",
      "[Epoch 96 - Step 0] Loss: 0.012611440382897854\n",
      "[Epoch 96] Val-Loss: 0.16417719672123593\n",
      "[Epoch 97 - Step 0] Loss: 0.012563052587211132\n",
      "[Epoch 97] Val-Loss: 0.15444619208574295\n",
      "[Epoch 98 - Step 0] Loss: 0.012507570907473564\n",
      "[Epoch 98] Val-Loss: 0.16067439566055933\n",
      "[Epoch 99 - Step 0] Loss: 0.0121221374720335\n",
      "[Epoch 99] Val-Loss: 0.15706006934245426\n"
     ]
    }
   ],
   "source": [
    "train_hist = []\n",
    "val_hist = []\n",
    "for epoch in range(n_epochs):\n",
    "        running_loss = 0.0\n",
    "        for i, data in enumerate(train_loader, 0):\n",
    "            # get the inputs\n",
    "            in_frames, out_frames = data\n",
    "            in_frames, out_frames = in_frames.to(device), out_frames.to(device)\n",
    "\n",
    "            # zero the parameter gradients\n",
    "            encoder_optim.zero_grad()\n",
    "            generator_optim.zero_grad()\n",
    "\n",
    "            # forward + backward + optimize\n",
    "            #print(next(encoder.parameters()).is_cuda)\n",
    "            #print(next(generator.parameters()).is_cuda)\n",
    "            hidden, encoder_attn = encoder(in_frames)\n",
    "            generated, generator_attn = generator(hidden)\n",
    "            loss = loss_fun(generated, out_frames)\n",
    "\n",
    "            loss.backward()\n",
    "            generator_optim.step()\n",
    "            encoder_optim.step()\n",
    "\n",
    "            # print statistics\n",
    "            running_loss += loss.item()# / 10\n",
    "            #if i % 10 == 9:\n",
    "            print('[Epoch {0} - Step {1}] Loss: {2}'.format(epoch, i, running_loss))\n",
    "            train_hist.append(running_loss)\n",
    "            running_loss = 0\n",
    "\n",
    "        val_loss = 0.0\n",
    "        for inval, outval in val_loader:\n",
    "            # get the validation inputs and outputs\n",
    "            inval, outval = inval.to(device), outval.to(device)\n",
    "\n",
    "            # forward\n",
    "            hidval, encval_attn = encoder(inval)\n",
    "            genval, genval_attn = generator(hidval)\n",
    "            val_loss += loss_fun(genval, outval).item() / len(val_loader)\n",
    "\n",
    "        print('[Epoch {0}] Val-Loss: {1}'.format(epoch, val_loss))\n",
    "        val_hist.append(val_loss)"
   ]
  },
  {
   "cell_type": "markdown",
   "metadata": {},
   "source": [
    "# Results visualization"
   ]
  },
  {
   "cell_type": "code",
   "execution_count": 11,
   "metadata": {},
   "outputs": [
    {
     "data": {
      "image/png": "[encoded data removed]",
      "text/plain": [
       "<Figure size 432x288 with 1 Axes>"
      ]
     },
     "metadata": {
      "needs_background": "light"
     },
     "output_type": "display_data"
    }
   ],
   "source": [
    "plt.plot(train_hist)\n",
    "plt.plot(val_hist)\n",
    "plt.legend(['train','val'])\n",
    "plt.show()"
   ]
  },
  {
   "cell_type": "code",
   "execution_count": 12,
   "metadata": {},
   "outputs": [
    {
     "name": "stderr",
     "output_type": "stream",
     "text": [
      "Clipping input data to the valid range for imshow with RGB data ([0..1] for floats or [0..255] for integers).\n"
     ]
    },
    {
     "data": {
      "image/png": "[encoded data removed]",
      "text/plain": [
       "<Figure size 432x288 with 1 Axes>"
      ]
     },
     "metadata": {
      "needs_background": "light"
     },
     "output_type": "display_data"
    },
    {
     "data": {
      "image/png": "[encoded data removed]",
      "text/plain": [
       "<Figure size 432x288 with 1 Axes>"
      ]
     },
     "metadata": {
      "needs_background": "light"
     },
     "output_type": "display_data"
    }
   ],
   "source": [
    "insamp, outsamp = train_data[0]\n",
    "insamp = insamp.unsqueeze(0)\n",
    "outsamp = outsamp.unsqueeze(0)\n",
    "#print(insamp.shape)\n",
    "#print(outsamp.shape)\n",
    "insamp, outsamp = insamp.to(device), outsamp.to(device)\n",
    "hidval, encval_attn = encoder(insamp)\n",
    "genval, genval_attn = generator(hidval)\n",
    "\n",
    "genval = genval.squeeze().permute(1,2,0).detach().numpy()\n",
    "outsamp = outsamp.squeeze().permute(1,2,0).numpy()\n",
    "\n",
    "plt.imshow(genval)\n",
    "plt.show()\n",
    "plt.imshow(outsamp)\n",
    "plt.show()"
   ]
  },
  {
   "cell_type": "code",
   "execution_count": 13,
   "metadata": {},
   "outputs": [
    {
     "name": "stdout",
     "output_type": "stream",
     "text": [
      "(64, 8, 8)\n",
      "(128, 8, 8)\n"
     ]
    }
   ],
   "source": [
    "encval_attn = encval_attn.squeeze().detach().numpy()\n",
    "genval_attn = genval_attn.squeeze().detach().numpy()\n",
    "print(encval_attn.shape)\n",
    "print(genval_attn.shape)"
   ]
  },
  {
   "cell_type": "code",
   "execution_count": 25,
   "metadata": {},
   "outputs": [
    {
     "name": "stdout",
     "output_type": "stream",
     "text": [
      "----------------------------------------------------------------\n",
      "        Layer (type)               Output Shape         Param #\n",
      "================================================================\n",
      "            Conv3d-1        [-1, 16, 1, 32, 32]           1,312\n",
      "         LeakyReLU-2        [-1, 16, 1, 32, 32]               0\n",
      "        NormConvND-3        [-1, 16, 1, 32, 32]               0\n",
      "            Conv3d-4        [-1, 16, 1, 32, 32]              64\n",
      "         LeakyReLU-5        [-1, 16, 1, 32, 32]               0\n",
      "        NormConvND-6        [-1, 16, 1, 32, 32]               0\n",
      "ResidualNormConv3D-7        [-1, 16, 1, 32, 32]               0\n",
      "            Conv3d-8        [-1, 32, 1, 16, 16]          13,856\n",
      "         LeakyReLU-9        [-1, 32, 1, 16, 16]               0\n",
      "       NormConvND-10        [-1, 32, 1, 16, 16]               0\n",
      "           Conv3d-11        [-1, 32, 1, 16, 16]             544\n",
      "        LeakyReLU-12        [-1, 32, 1, 16, 16]               0\n",
      "       NormConvND-13        [-1, 32, 1, 16, 16]               0\n",
      "ResidualNormConv3D-14        [-1, 32, 1, 16, 16]               0\n",
      "           Conv3d-15          [-1, 64, 1, 8, 8]          55,360\n",
      "        LeakyReLU-16          [-1, 64, 1, 8, 8]               0\n",
      "       NormConvND-17          [-1, 64, 1, 8, 8]               0\n",
      "           Conv3d-18          [-1, 64, 1, 8, 8]           2,112\n",
      "        LeakyReLU-19          [-1, 64, 1, 8, 8]               0\n",
      "       NormConvND-20          [-1, 64, 1, 8, 8]               0\n",
      "ResidualNormConv3D-21          [-1, 64, 1, 8, 8]               0\n",
      "           Conv3d-22           [-1, 8, 1, 8, 8]             520\n",
      "       NormConvND-23           [-1, 8, 1, 8, 8]               0\n",
      "           Conv3d-24           [-1, 8, 1, 8, 8]             520\n",
      "       NormConvND-25           [-1, 8, 1, 8, 8]               0\n",
      "           Conv3d-26           [-1, 8, 1, 8, 8]             520\n",
      "       NormConvND-27           [-1, 8, 1, 8, 8]               0\n",
      "          Softmax-28               [-1, 64, 64]               0\n",
      "           Conv3d-29          [-1, 64, 1, 8, 8]             576\n",
      "       NormConvND-30          [-1, 64, 1, 8, 8]               0\n",
      "  SelfAttentionND-31  [[-1, 64, 1, 8, 8], [-1, 64, 1, 8, 8]]               0\n",
      "  SelfAttention3D-32  [[-1, 64, 1, 8, 8], [-1, 64, 1, 8, 8]]               0\n",
      "           Conv3d-33         [-1, 256, 1, 4, 4]         442,624\n",
      "        LeakyReLU-34         [-1, 256, 1, 4, 4]               0\n",
      "       NormConvND-35         [-1, 256, 1, 4, 4]               0\n",
      "           Conv3d-36         [-1, 256, 1, 4, 4]          16,640\n",
      "        LeakyReLU-37         [-1, 256, 1, 4, 4]               0\n",
      "       NormConvND-38         [-1, 256, 1, 4, 4]               0\n",
      "ResidualNormConv3D-39         [-1, 256, 1, 4, 4]               0\n",
      "           Linear-40                  [-1, 128]         524,416\n",
      "================================================================\n",
      "Total params: 1,059,064\n",
      "Trainable params: 1,059,064\n",
      "Non-trainable params: 0\n",
      "----------------------------------------------------------------\n",
      "Input size (MB): 0.09\n",
      "Forward/backward pass size (MB): 254.13\n",
      "Params size (MB): 4.04\n",
      "Estimated Total Size (MB): 258.27\n",
      "----------------------------------------------------------------\n",
      "----------------------------------------------------------------\n",
      "        Layer (type)               Output Shape         Param #\n",
      "================================================================\n",
      "            Linear-1                 [-1, 4096]         528,384\n",
      "          Upsample-2         [-1, 256, 1, 8, 8]               0\n",
      "            Conv3d-3         [-1, 128, 1, 8, 8]         884,736\n",
      "         LeakyReLU-4         [-1, 128, 1, 8, 8]               0\n",
      "    NormUpsampleND-5         [-1, 128, 1, 8, 8]               0\n",
      "    NormUpsample3D-6         [-1, 128, 1, 8, 8]               0\n",
      "            Conv3d-7          [-1, 16, 1, 8, 8]           2,064\n",
      "        NormConvND-8          [-1, 16, 1, 8, 8]               0\n",
      "            Conv3d-9          [-1, 16, 1, 8, 8]           2,064\n",
      "       NormConvND-10          [-1, 16, 1, 8, 8]               0\n",
      "           Conv3d-11          [-1, 16, 1, 8, 8]           2,064\n",
      "       NormConvND-12          [-1, 16, 1, 8, 8]               0\n",
      "          Softmax-13               [-1, 64, 64]               0\n",
      "           Conv3d-14         [-1, 128, 1, 8, 8]           2,176\n",
      "       NormConvND-15         [-1, 128, 1, 8, 8]               0\n",
      "  SelfAttentionND-16  [[-1, 128, 1, 8, 8], [-1, 128, 1, 8, 8]]               0\n",
      "  SelfAttention3D-17  [[-1, 128, 1, 8, 8], [-1, 128, 1, 8, 8]]               0\n",
      "         Upsample-18       [-1, 128, 1, 16, 16]               0\n",
      "           Conv3d-19        [-1, 64, 1, 16, 16]         221,184\n",
      "        LeakyReLU-20        [-1, 64, 1, 16, 16]               0\n",
      "   NormUpsampleND-21        [-1, 64, 1, 16, 16]               0\n",
      "   NormUpsample3D-22        [-1, 64, 1, 16, 16]               0\n",
      "         Upsample-23        [-1, 64, 1, 32, 32]               0\n",
      "           Conv3d-24        [-1, 32, 1, 32, 32]          55,296\n",
      "        LeakyReLU-25        [-1, 32, 1, 32, 32]               0\n",
      "   NormUpsampleND-26        [-1, 32, 1, 32, 32]               0\n",
      "   NormUpsample3D-27        [-1, 32, 1, 32, 32]               0\n",
      "         Upsample-28        [-1, 32, 1, 64, 64]               0\n",
      "           Conv3d-29         [-1, 3, 1, 64, 64]           2,592\n",
      "        LeakyReLU-30         [-1, 3, 1, 64, 64]               0\n",
      "   NormUpsampleND-31         [-1, 3, 1, 64, 64]               0\n",
      "   NormUpsample3D-32         [-1, 3, 1, 64, 64]               0\n",
      "================================================================\n",
      "Total params: 1,700,560\n",
      "Trainable params: 1,700,560\n",
      "Non-trainable params: 0\n",
      "----------------------------------------------------------------\n",
      "Input size (MB): 0.00\n",
      "Forward/backward pass size (MB): 1019.77\n",
      "Params size (MB): 6.49\n",
      "Estimated Total Size (MB): 1026.25\n",
      "----------------------------------------------------------------\n"
     ]
    }
   ],
   "source": [
    "summary(encoder, input_size=(3, 2, 64, 64))\n",
    "summary(generator, input_size=(128, ))"
   ]
  },
  {
   "cell_type": "code",
   "execution_count": 15,
   "metadata": {},
   "outputs": [
    {
     "name": "stdout",
     "output_type": "stream",
     "text": [
      "[[-0.11132722  0.02084559 -0.08078738 -0.19068544 -0.25577462 -0.14956722\n",
      "  -0.33629906 -0.10770121]\n",
      " [-0.11131836  0.02085742 -0.08079305 -0.19068706 -0.25577503 -0.1495624\n",
      "  -0.33631912 -0.1076926 ]\n",
      " [-0.11131924  0.02085938 -0.08080219 -0.19068603 -0.255772   -0.14956321\n",
      "  -0.33631772 -0.10769217]\n",
      " [-0.11132014  0.02085513 -0.08079371 -0.19068664 -0.2557742  -0.14956358\n",
      "  -0.33631453 -0.10769437]\n",
      " [-0.11131943  0.0208555  -0.08079185 -0.1906869  -0.25577495 -0.14956307\n",
      "  -0.33631626 -0.10769391]\n",
      " [-0.11132041  0.0208571  -0.08080079 -0.1906862  -0.25577193 -0.1495631\n",
      "  -0.33631516 -0.10769266]\n",
      " [-0.11132032  0.02085741 -0.08080016 -0.19068608 -0.25577232 -0.14956331\n",
      "  -0.33631545 -0.10769303]\n",
      " [-0.11131896  0.02086931 -0.08082625 -0.19068372 -0.25576568 -0.14956333\n",
      "  -0.33632243 -0.10768801]]\n"
     ]
    }
   ],
   "source": [
    "print(encval_attn[0,:,:])"
   ]
  },
  {
   "cell_type": "code",
   "execution_count": 26,
   "metadata": {},
   "outputs": [
    {
     "data": {
      "image/png": "[encoded data removed]",
      "text/plain": [
       "<Figure size 432x288 with 1 Axes>"
      ]
     },
     "metadata": {
      "needs_background": "light"
     },
     "output_type": "display_data"
    },
    {
     "data": {
      "image/png": "[encoded data removed]",
      "text/plain": [
       "<Figure size 432x288 with 1 Axes>"
      ]
     },
     "metadata": {
      "needs_background": "light"
     },
     "output_type": "display_data"
    },
    {
     "data": {
      "image/png": "[encoded data removed]",
      "text/plain": [
       "<Figure size 432x288 with 1 Axes>"
      ]
     },
     "metadata": {
      "needs_background": "light"
     },
     "output_type": "display_data"
    },
    {
     "data": {
      "image/png": "[encoded data removed]",
      "text/plain": [
       "<Figure size 432x288 with 1 Axes>"
      ]
     },
     "metadata": {
      "needs_background": "light"
     },
     "output_type": "display_data"
    },
    {
     "data": {
      "image/png": "[encoded data removed]",
      "text/plain": [
       "<Figure size 432x288 with 1 Axes>"
      ]
     },
     "metadata": {
      "needs_background": "light"
     },
     "output_type": "display_data"
    },
    {
     "data": {
      "image/png": "[encoded data removed]",
      "text/plain": [
       "<Figure size 432x288 with 1 Axes>"
      ]
     },
     "metadata": {
      "needs_background": "light"
     },
     "output_type": "display_data"
    },
    {
     "data": {
      "image/png": "[encoded data removed]",
      "text/plain": [
       "<Figure size 432x288 with 1 Axes>"
      ]
     },
     "metadata": {
      "needs_background": "light"
     },
     "output_type": "display_data"
    },
    {
     "data": {
      "image/png": "[encoded data removed]",
      "text/plain": [
       "<Figure size 432x288 with 1 Axes>"
      ]
     },
     "metadata": {
      "needs_background": "light"
     },
     "output_type": "display_data"
    },
    {
     "data": {
      "image/png": "[encoded data removed]",
      "text/plain": [
       "<Figure size 432x288 with 1 Axes>"
      ]
     },
     "metadata": {
      "needs_background": "light"
     },
     "output_type": "display_data"
    },
    {
     "data": {
      "image/png": "[encoded data removed]",
      "text/plain": [
       "<Figure size 432x288 with 1 Axes>"
      ]
     },
     "metadata": {
      "needs_background": "light"
     },
     "output_type": "display_data"
    },
    {
     "data": {
      "image/png": "[encoded data removed]",
      "text/plain": [
       "<Figure size 432x288 with 1 Axes>"
      ]
     },
     "metadata": {
      "needs_background": "light"
     },
     "output_type": "display_data"
    },
    {
     "data": {
      "image/png": "[encoded data removed]",
      "text/plain": [
       "<Figure size 432x288 with 1 Axes>"
      ]
     },
     "metadata": {
      "needs_background": "light"
     },
     "output_type": "display_data"
    },
    {
     "data": {
      "image/png": "[encoded data removed]",
      "text/plain": [
       "<Figure size 432x288 with 1 Axes>"
      ]
     },
     "metadata": {
      "needs_background": "light"
     },
     "output_type": "display_data"
    },
    {
     "data": {
      "image/png": "[encoded data removed]",
      "text/plain": [
       "<Figure size 432x288 with 1 Axes>"
      ]
     },
     "metadata": {
      "needs_background": "light"
     },
     "output_type": "display_data"
    },
    {
     "data": {
      "image/png": "[encoded data removed]",
      "text/plain": [
       "<Figure size 432x288 with 1 Axes>"
      ]
     },
     "metadata": {
      "needs_background": "light"
     },
     "output_type": "display_data"
    },
    {
     "data": {
      "image/png": "[encoded data removed]",
      "text/plain": [
       "<Figure size 432x288 with 1 Axes>"
      ]
     },
     "metadata": {
      "needs_background": "light"
     },
     "output_type": "display_data"
    }
   ],
   "source": [
    "for idx in range(16):#genval_attn.shape[0]):\n",
    "    plt.imshow(genval_attn[idx,:,:], cmap = 'gray')\n",
    "    plt.show()"
   ]
  },
  {
   "cell_type": "code",
   "execution_count": 19,
   "metadata": {},
   "outputs": [
    {
     "data": {
      "text/plain": [
       "4096"
      ]
     },
     "execution_count": 19,
     "metadata": {},
     "output_type": "execute_result"
    }
   ],
   "source": [
    "64*64"
   ]
  },
  {
   "cell_type": "code",
   "execution_count": 20,
   "metadata": {},
   "outputs": [
    {
     "data": {
      "text/plain": [
       "4096"
      ]
     },
     "execution_count": 20,
     "metadata": {},
     "output_type": "execute_result"
    }
   ],
   "source": [
    "4*4*256"
   ]
  },
  {
   "cell_type": "code",
   "execution_count": null,
   "metadata": {},
   "outputs": [],
   "source": []
  }
 ],
 "metadata": {
  "kernelspec": {
   "display_name": "psychic-gan-env",
   "language": "python",
   "name": "psychic-gan-env"
  },
  "language_info": {
   "codemirror_mode": {
    "name": "ipython",
    "version": 3
   },
   "file_extension": ".py",
   "mimetype": "text/x-python",
   "name": "python",
   "nbconvert_exporter": "python",
   "pygments_lexer": "ipython3",
   "version": "3.6.7"
  }
 },
 "nbformat": 4,
 "nbformat_minor": 2
}
